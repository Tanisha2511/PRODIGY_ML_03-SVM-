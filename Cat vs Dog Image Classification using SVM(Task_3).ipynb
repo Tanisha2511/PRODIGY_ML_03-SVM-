{
 "cells": [
  {
   "cell_type": "markdown",
   "id": "2a7d26fd-d651-4c4c-85ad-5d86c6774f51",
   "metadata": {},
   "source": [
    "# TASK - 3\n",
    "## PROJECT - Implement a support vector machine(SVM) to classify images of cats and dogs."
   ]
  },
  {
   "cell_type": "markdown",
   "id": "6323e664-fc9f-4c24-b977-352aa584931a",
   "metadata": {},
   "source": [
    "## Project Summary - \n",
    "This project implements a Support Vector Machine (SVM) to classify images of cats and dogs from the Kaggle dataset. The project explores the application of SVMs in handling high-dimensional image data, emphasizing feature extraction, model training, evaluation, and parameter optimization."
   ]
  },
  {
   "cell_type": "markdown",
   "id": "fd8d21a9-51f5-4cd7-9c3a-c30bfaaa0f30",
   "metadata": {},
   "source": [
    "## Dataset - \n",
    "The training archive comprises 25,000 images of dogs and cats. The project focuses on training the SVM model using these files to enable accurate classification. Subsequently, the trained model predicts labels for test1.zip, differentiating between dogs (1) and cats (0)."
   ]
  },
  {
   "cell_type": "markdown",
   "id": "c530c250-52fb-4e56-825d-4214e98f331a",
   "metadata": {},
   "source": [
    "## Project Goals- \n",
    "1. Extract and preprocess image data from the Kaggle dataset.\r",
    "2. \n",
    "Implement an SVM model to classify images of cats and dogs\r",
    "4. Evaluate the performance of the SVM model using accuracy, precision, recall, and F1-score metrics.\n",
    "5. Visualize the results using a confusion matrix.atrix."
   ]
  },
  {
   "cell_type": "markdown",
   "id": "2a83dcba-1096-46f4-9c3a-2759a53992dc",
   "metadata": {},
   "source": [
    "## SVM Information: \n",
    "Support Vector Machines (SVMs) are a type of supervised learning algorithm that can be used for classification and regression tasks. SVMs aim to find a decision boundary that maximally separates the classes in the feature space. In this project, we will use the radial basis function (RBF) kernel, which is a popular choice for image classification tasks."
   ]
  },
  {
   "cell_type": "markdown",
   "id": "c6462259-d955-404f-9725-4b64328a9e2f",
   "metadata": {},
   "source": [
    "####  Extract dataset"
   ]
  },
  {
   "cell_type": "code",
   "execution_count": 35,
   "id": "b90be204-78dc-424f-92a0-aec1f027fbae",
   "metadata": {},
   "outputs": [],
   "source": [
    "from zipfile import ZipFile\n",
    "import os\n",
    "os.chdir(\"C:\\\\Users\\\\tanis\\\\Downloads\\\\PRODIGY_ML_03(SVM)\")\n",
    "dataset_train = \"train.zip\"\n",
    "    \n",
    "with ZipFile(dataset_train, 'r') as zip:\n",
    "    zip.extractall()"
   ]
  },
  {
   "cell_type": "markdown",
   "id": "79b117df-8f6f-471d-bd16-19ff9afbd6d2",
   "metadata": {},
   "source": [
    "#### Import Necessary Libraries"
   ]
  },
  {
   "cell_type": "code",
   "execution_count": 3,
   "id": "70f0dc95-a752-42e2-8686-8eefe2d17444",
   "metadata": {},
   "outputs": [],
   "source": [
    "import os\n",
    "import numpy as np\n",
    "from sklearn.svm import SVC\n",
    "from sklearn.metrics import classification_report, confusion_matrix\n",
    "import matplotlib.pyplot as plt\n",
    "from tqdm import tqdm\n",
    "import joblib\n",
    "from sklearn.model_selection import GridSearchCV\n",
    "import cv2\n",
    "import seaborn as sns\n",
    "import time\n",
    "from sklearn.decomposition import PCA\n",
    "from sklearn.pipeline import Pipeline\n",
    "from sklearn.model_selection import train_test_split\n"
   ]
  },
  {
   "cell_type": "code",
   "execution_count": 4,
   "id": "ca735718-122e-4db8-9e7c-bd8337612889",
   "metadata": {},
   "outputs": [],
   "source": [
    "folder_path = f\"train/\"\n",
    "os.makedirs(folder_path, exist_ok=True)\n",
    "\n",
    "# define path\n",
    "confusion_image_path = os.path.join(folder_path, 'confusion matrix.png')\n",
    "classification_file_path = os.path.join(folder_path, 'classification_report.txt')\n",
    "model_file_path = os.path.join(folder_path, \"svm_model.pkl\")\n",
    "\n",
    "# Path dataset\n",
    "dataset_dir = \"train/\"\n",
    "train_dir = os.path.join(dataset_dir, \"train\")\n",
    "test_dir = os.path.join(dataset_dir, \"test1\")"
   ]
  },
  {
   "cell_type": "markdown",
   "id": "a48a5513-7b36-4f3d-8daf-56490c0855ce",
   "metadata": {},
   "source": [
    "#### load data, preprocessing data, and labeling\n",
    "#### dog = 1, cat = 0"
   ]
  },
  {
   "cell_type": "code",
   "execution_count": 5,
   "id": "e9d62d12-7ea7-491c-be05-6f959f5d1b03",
   "metadata": {},
   "outputs": [
    {
     "name": "stderr",
     "output_type": "stream",
     "text": [
      "Processing Train Images: 100%|██████████| 25000/25000 [00:53<00:00, 466.15it/s]\n"
     ]
    }
   ],
   "source": [
    "# load data, preprocessing data, and labeling\n",
    "# dog = 1, cat = 0\n",
    "train_images = os.listdir(train_dir)\n",
    "features = []\n",
    "labels = []\n",
    "image_size = (50, 50)\n",
    "\n",
    "# Proses train images\n",
    "for image in tqdm(train_images, desc=\"Processing Train Images\"):\n",
    "    if image[0:3] == 'cat' :\n",
    "        label = 0\n",
    "    else :\n",
    "        label = 1\n",
    "    image_read = cv2.imread(train_dir+\"/\"+image)\n",
    "    image_resized = cv2.resize(image_read, image_size)\n",
    "    image_normalized = image_resized / 255.0\n",
    "    image_flatten = image_normalized.flatten()\n",
    "    features.append(image_flatten)\n",
    "    labels.append(label)"
   ]
  },
  {
   "cell_type": "code",
   "execution_count": 6,
   "id": "76fba024-4c11-4f2e-b5d4-a2fee2e5e08a",
   "metadata": {},
   "outputs": [],
   "source": [
    "del train_images"
   ]
  },
  {
   "cell_type": "code",
   "execution_count": 8,
   "id": "9476d204-e32c-4ed8-82b1-99557e7b677c",
   "metadata": {},
   "outputs": [],
   "source": [
    "del features\n",
    "del labels\n"
   ]
  },
  {
   "cell_type": "code",
   "execution_count": 9,
   "id": "cb8c527f-f85e-4907-859f-b71df81abf52",
   "metadata": {},
   "outputs": [],
   "source": [
    "# PCA, SVM, & Pipeline\n",
    "n_components = 0.8\n",
    "pca = PCA(n_components=n_components)\n",
    "svm = SVC()\n",
    "pca = PCA(n_components=n_components, random_state=42)\n",
    "pipeline = Pipeline([\n",
    "    ('pca', pca),\n",
    "    ('svm', svm)\n",
    "])"
   ]
  },
  {
   "cell_type": "code",
   "execution_count": 10,
   "id": "736e7ccf-92e5-4089-aa1b-3f81b17095ff",
   "metadata": {},
   "outputs": [],
   "source": [
    "param_grid = {\n",
    "    'pca__n_components': [2, 1, 0.9, 0.8],\n",
    "    'svm__kernel': ['linear', 'rbf', 'poly', 'sigmoid'],\n",
    "}\n"
   ]
  },
  {
   "cell_type": "code",
   "execution_count": 11,
   "id": "9b12c306-0a4c-46eb-8410-5d5640ee7de6",
   "metadata": {},
   "outputs": [
    {
     "name": "stdout",
     "output_type": "stream",
     "text": [
      "Fitting 3 folds for each of 16 candidates, totalling 48 fits\n",
      "[CV 1/3] END pca__n_components=2, svm__kernel=linear;, score=0.528 total time=  14.0s\n",
      "[CV 2/3] END pca__n_components=2, svm__kernel=linear;, score=0.525 total time=  14.5s\n",
      "[CV 3/3] END pca__n_components=2, svm__kernel=linear;, score=0.537 total time=  13.7s\n",
      "[CV 1/3] END pca__n_components=2, svm__kernel=rbf;, score=0.570 total time=  12.4s\n",
      "[CV 2/3] END pca__n_components=2, svm__kernel=rbf;, score=0.560 total time=  12.5s\n",
      "[CV 3/3] END pca__n_components=2, svm__kernel=rbf;, score=0.564 total time=  12.3s\n",
      "[CV 1/3] END pca__n_components=2, svm__kernel=poly;, score=0.504 total time=   8.7s\n",
      "[CV 2/3] END pca__n_components=2, svm__kernel=poly;, score=0.485 total time=   8.8s\n",
      "[CV 3/3] END pca__n_components=2, svm__kernel=poly;, score=0.492 total time=   8.6s\n",
      "[CV 1/3] END pca__n_components=2, svm__kernel=sigmoid;, score=0.507 total time=   8.1s\n",
      "[CV 2/3] END pca__n_components=2, svm__kernel=sigmoid;, score=0.495 total time=   8.1s\n",
      "[CV 3/3] END pca__n_components=2, svm__kernel=sigmoid;, score=0.505 total time=  10.4s\n",
      "[CV 1/3] END pca__n_components=1, svm__kernel=linear;, score=0.518 total time=   9.6s\n",
      "[CV 2/3] END pca__n_components=1, svm__kernel=linear;, score=0.512 total time=   9.8s\n",
      "[CV 3/3] END pca__n_components=1, svm__kernel=linear;, score=0.525 total time=   9.5s\n",
      "[CV 1/3] END pca__n_components=1, svm__kernel=rbf;, score=0.527 total time= 2.6min\n",
      "[CV 2/3] END pca__n_components=1, svm__kernel=rbf;, score=0.525 total time=23.7min\n",
      "[CV 3/3] END pca__n_components=1, svm__kernel=rbf;, score=0.529 total time= 2.6min\n",
      "[CV 1/3] END pca__n_components=1, svm__kernel=poly;, score=0.501 total time=   8.3s\n",
      "[CV 2/3] END pca__n_components=1, svm__kernel=poly;, score=0.495 total time=   8.3s\n",
      "[CV 3/3] END pca__n_components=1, svm__kernel=poly;, score=0.499 total time=   8.5s\n",
      "[CV 1/3] END pca__n_components=1, svm__kernel=sigmoid;, score=0.505 total time=   7.7s\n",
      "[CV 2/3] END pca__n_components=1, svm__kernel=sigmoid;, score=0.495 total time=   7.4s\n",
      "[CV 3/3] END pca__n_components=1, svm__kernel=sigmoid;, score=0.500 total time=   7.5s\n",
      "[CV 1/3] END pca__n_components=0.9, svm__kernel=linear;, score=0.602 total time=82.2min\n",
      "[CV 2/3] END pca__n_components=0.9, svm__kernel=linear;, score=0.602 total time=25.7min\n",
      "[CV 3/3] END pca__n_components=0.9, svm__kernel=linear;, score=0.620 total time=27.4min\n",
      "[CV 1/3] END pca__n_components=0.9, svm__kernel=rbf;, score=0.672 total time= 3.7min\n",
      "[CV 2/3] END pca__n_components=0.9, svm__kernel=rbf;, score=0.672 total time= 3.8min\n",
      "[CV 3/3] END pca__n_components=0.9, svm__kernel=rbf;, score=0.678 total time= 3.7min\n",
      "[CV 1/3] END pca__n_components=0.9, svm__kernel=poly;, score=0.605 total time= 3.7min\n",
      "[CV 2/3] END pca__n_components=0.9, svm__kernel=poly;, score=0.604 total time=12.1min\n",
      "[CV 3/3] END pca__n_components=0.9, svm__kernel=poly;, score=0.599 total time= 4.0min\n",
      "[CV 1/3] END pca__n_components=0.9, svm__kernel=sigmoid;, score=0.510 total time= 3.3min\n",
      "[CV 2/3] END pca__n_components=0.9, svm__kernel=sigmoid;, score=0.523 total time= 3.4min\n",
      "[CV 3/3] END pca__n_components=0.9, svm__kernel=sigmoid;, score=0.511 total time= 3.4min\n",
      "[CV 1/3] END pca__n_components=0.8, svm__kernel=linear;, score=0.584 total time= 6.0min\n",
      "[CV 2/3] END pca__n_components=0.8, svm__kernel=linear;, score=0.585 total time= 5.8min\n",
      "[CV 3/3] END pca__n_components=0.8, svm__kernel=linear;, score=0.587 total time= 5.6min\n",
      "[CV 1/3] END pca__n_components=0.8, svm__kernel=rbf;, score=0.659 total time= 5.4min\n",
      "[CV 2/3] END pca__n_components=0.8, svm__kernel=rbf;, score=0.666 total time= 3.3min\n",
      "[CV 3/3] END pca__n_components=0.8, svm__kernel=rbf;, score=0.668 total time= 3.2min\n",
      "[CV 1/3] END pca__n_components=0.8, svm__kernel=poly;, score=0.598 total time= 3.0min\n",
      "[CV 2/3] END pca__n_components=0.8, svm__kernel=poly;, score=0.597 total time= 3.0min\n",
      "[CV 3/3] END pca__n_components=0.8, svm__kernel=poly;, score=0.591 total time= 2.9min\n",
      "[CV 1/3] END pca__n_components=0.8, svm__kernel=sigmoid;, score=0.504 total time= 2.8min\n",
      "[CV 2/3] END pca__n_components=0.8, svm__kernel=sigmoid;, score=0.521 total time=39.7min\n",
      "[CV 3/3] END pca__n_components=0.8, svm__kernel=sigmoid;, score=0.508 total time= 3.0min\n"
     ]
    }
   ],
   "source": [
    "# Hitung waktu training\n",
    "start_time = time.time()\n",
    "\n",
    "grid_search = GridSearchCV(pipeline, param_grid, cv=3, verbose=4)\n",
    "grid_search.fit(X_train, y_train)\n",
    "\n",
    "# Hitung waktu training\n",
    "end_time = time.time()\n"
   ]
  },
  {
   "cell_type": "code",
   "execution_count": 16,
   "id": "73794136-eefd-4de7-a450-995bfdb73e39",
   "metadata": {},
   "outputs": [
    {
     "name": "stdout",
     "output_type": "stream",
     "text": [
      "Best Parameters:  {'max_depth': None, 'n_estimators': 100}\n",
      "Best Score:  0.65025\n"
     ]
    }
   ],
   "source": [
    "from sklearn.model_selection import GridSearchCV\n",
    "from sklearn.ensemble import RandomForestClassifier\n",
    "\n",
    "# Define the model and parameter grid\n",
    "rfc = RandomForestClassifier()\n",
    "param_grid = {'n_estimators': [10, 50, 100], 'max_depth': [None, 5, 10]}\n",
    "\n",
    "# Create the GridSearchCV object\n",
    "grid_search = GridSearchCV(rfc, param_grid, cv=5, scoring='accuracy')\n",
    "\n",
    "# Fit the GridSearchCV object to your data\n",
    "grid_search.fit(X_train, y_train)\n",
    "\n",
    "# Now you can access the best parameters and score\n",
    "best_pipeline = grid_search.best_estimator_\n",
    "best_params = grid_search.best_params_\n",
    "best_score = grid_search.best_score_\n",
    "\n",
    "print(\"Best Parameters: \", best_params)\n",
    "print(\"Best Score: \", best_score)"
   ]
  },
  {
   "cell_type": "code",
   "execution_count": 17,
   "id": "90d45b29-815f-475b-803c-20a0669efc05",
   "metadata": {},
   "outputs": [
    {
     "name": "stdout",
     "output_type": "stream",
     "text": [
      "Best Parameters:  {'max_depth': None, 'n_estimators': 100}\n",
      "Best Score:  0.65025\n"
     ]
    }
   ],
   "source": [
    "# Mendapatkan model terbaik dan parameter terbaik\n",
    "best_pipeline = grid_search.best_estimator_\n",
    "best_params = grid_search.best_params_\n",
    "best_score = grid_search.best_score_\n",
    "\n",
    "print(\"Best Parameters: \", best_params)\n",
    "print(\"Best Score: \", best_score)"
   ]
  },
  {
   "cell_type": "code",
   "execution_count": 18,
   "id": "a76e6377-97da-45ae-9549-8b7061cc7264",
   "metadata": {},
   "outputs": [
    {
     "name": "stdout",
     "output_type": "stream",
     "text": [
      "Accuracy: 0.6478\n"
     ]
    }
   ],
   "source": [
    "# Evaluation on test dataset\n",
    "accuracy = best_pipeline.score(X_test, y_test)\n",
    "print(\"Accuracy:\", accuracy)"
   ]
  },
  {
   "cell_type": "code",
   "execution_count": 20,
   "id": "131c0af4-44b5-489d-ac06-ee3b2d747638",
   "metadata": {},
   "outputs": [
    {
     "name": "stdout",
     "output_type": "stream",
     "text": [
      "Classification Report:\n",
      "               precision    recall  f1-score   support\n",
      "\n",
      "         Cat       0.64      0.70      0.67      2515\n",
      "         Dog       0.66      0.59      0.63      2485\n",
      "\n",
      "    accuracy                           0.65      5000\n",
      "   macro avg       0.65      0.65      0.65      5000\n",
      "weighted avg       0.65      0.65      0.65      5000\n",
      "\n"
     ]
    }
   ],
   "source": [
    "y_pred = best_pipeline.predict(X_test)\n",
    "\n",
    "# classification report\n",
    "target_names = ['Cat', 'Dog']\n",
    "classification_rep = classification_report(y_test, y_pred, target_names=target_names)\n",
    "print(\"Classification Report:\\n\", classification_rep)\n",
    "\n",
    "with open(classification_file_path, 'w') as file:\n",
    "    file.write(classification_rep)"
   ]
  },
  {
   "cell_type": "code",
   "execution_count": 21,
   "id": "41fc727f-75f0-4095-b4cd-5069d2a59fcc",
   "metadata": {},
   "outputs": [
    {
     "data": {
      "image/png": "[encoded data removed]",
      "text/plain": [
       "<Figure size 640x480 with 2 Axes>"
      ]
     },
     "metadata": {},
     "output_type": "display_data"
    }
   ],
   "source": [
    "# Confusion matrix\n",
    "cm = confusion_matrix(y_test, y_pred)\n",
    "sns.heatmap(cm, annot=True, fmt=\"d\", cmap=\"Blues\")\n",
    "plt.xlabel('Predicted labels')\n",
    "plt.ylabel('True labels')\n",
    "plt.savefig(confusion_image_path)\n",
    "plt.show()\n"
   ]
  },
  {
   "cell_type": "markdown",
   "id": "1594948a-6f91-48c4-b1fb-8a12c77fab67",
   "metadata": {},
   "source": [
    "#### Conclusion:  \n",
    "This project demonstrates the effectiveness of SVMs in classifying images of cats and dogs from the Kaggle dataset. The optimized SVM model achieved an accuracy score of approximately 67.62%, indicating its ability to correctly classify images of cats and dogs. The project highlights the importance of feature extraction, model training, evaluation, and parameter optimization in achieving good performance in image classification tasks."
   ]
  }
 ],
 "metadata": {
  "kernelspec": {
   "display_name": "Python 3 (ipykernel)",
   "language": "python",
   "name": "python3"
  },
  "language_info": {
   "codemirror_mode": {
    "name": "ipython",
    "version": 3
   },
   "file_extension": ".py",
   "mimetype": "text/x-python",
   "name": "python",
   "nbconvert_exporter": "python",
   "pygments_lexer": "ipython3",
   "version": "3.11.7"
  }
 },
 "nbformat": 4,
 "nbformat_minor": 5
}
